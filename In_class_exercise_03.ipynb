{
  "nbformat": 4,
  "nbformat_minor": 0,
  "metadata": {
    "kernelspec": {
      "display_name": "Python 3",
      "language": "python",
      "name": "python3"
    },
    "language_info": {
      "codemirror_mode": {
        "name": "ipython",
        "version": 3
      },
      "file_extension": ".py",
      "mimetype": "text/x-python",
      "name": "python",
      "nbconvert_exporter": "python",
      "pygments_lexer": "ipython3",
      "version": "3.7.4"
    },
    "colab": {
      "name": "In-class-exercise-03.ipynb",
      "provenance": [],
      "collapsed_sections": []
    }
  },
  "cells": [
    {
      "cell_type": "markdown",
      "metadata": {
        "id": "AklVrgDJSJPm"
      },
      "source": [
        "## The third In-class-exercise (9/16/2020, 20 points in total)"
      ]
    },
    {
      "cell_type": "markdown",
      "metadata": {
        "id": "pMB3uk2mSJPp"
      },
      "source": [
        "The purpose of this exercise is to under users' information needs, then collect the data for analysis."
      ]
    },
    {
      "cell_type": "markdown",
      "metadata": {
        "id": "VV4ExfgjSJPq"
      },
      "source": [
        "Question 1 (8 points): Describe an interesting research question (or practical question) you have in mind, what kind of data should be collected to answer the question(s)? How many data needed for the analysis? The detail steps for collecting and save the data. "
      ]
    },
    {
      "cell_type": "code",
      "metadata": {
        "id": "PO0_XnQfSJPq"
      },
      "source": [
        "# Your answer here (no code for this question, write down your answer as detail as possible for the above questions):\n",
        "Fraud detection\n",
        "\n",
        "Machine learning is crucial for effective detection and prevention of fraud involving credit cards, accounting, insurance, and more. Proactive fraud detection in banking is essential for providing security to customers and employees. \n",
        "The sooner a bank detects fraud, the faster it can restrict account activity to minimize loses. By implementing a series of fraud detection schemes banks can achieve necessary protection and avoid significant loses.\n",
        "\n",
        "The key questions which can be anaswered by fraud detection  which include:\n",
        "\n",
        "Obtaining data samplings for model estimation and preliminary testing\n",
        "\n",
        "Model estimation\n",
        "\n",
        "Testing stage and deployment.\n",
        "\n",
        "Since every data set is different, each requires individual training and fine-tuning by data scientists. \n",
        "Transforming the deep theoretical knowledge into practical applications demands expertise in data-mining techniques,\n",
        " such as association, clustering, forecasting, and classification.\n",
        "\n",
        "\n",
        "\n",
        "'''"
      ],
      "execution_count": null,
      "outputs": []
    },
    {
      "cell_type": "markdown",
      "metadata": {
        "id": "LTpEQKeBSJPr"
      },
      "source": [
        "Question 2 (12 points): Write python code to collect 500 items of the data you plan to collect above."
      ]
    },
    {
      "cell_type": "code",
      "metadata": {
        "id": "1vEHjLxCSJPr",
        "colab": {
          "base_uri": "https://localhost:8080/",
          "height": 195
        },
        "outputId": "670ae3df-ca46-4b6e-f50f-ddcdedf0902e"
      },
      "source": [
        "# You code here (Please add comments in the code):\n",
        "\n",
        "import pandas as pd\n",
        "import requests\n",
        "from bs4 import BeautifulSoup\n",
        "Id = []\n",
        "Id_List = [ ]\n",
        "tableRow = [ ]\n",
        "Description = []\n",
        "Description_List = [ ]\n",
        "Solved_By = []\n",
        "Solved_By_List = [ ]\n",
        "for i in range(1,16):\n",
        " page = requests.get('https://projecteuler.net/archives;page='+ str (i))\n",
        " soup = BeautifulSoup(page.content,'html.parser')\n",
        " Id.append(soup.find_all('td',class_=\"id_column\"))\n",
        " tableRow.append(soup.find_all('tr')) #for loop till\n",
        " Solved_By.append(soup.find_all('div',class_=\"center\"))\n",
        "for item in Id:\n",
        "  for i in range(len(item)):\n",
        "    Id_List.append(int (item[i].get_text()))\n",
        "for item in tableRow:\n",
        "  for i in range(len(item)):\n",
        "    Description.append(item[i].find('a'))\n",
        "for item in Solved_By:\n",
        "  for i in range(len(item)):\n",
        "    Solved_By_List.append(int (item[i].get_text())) \n",
        "Description = list(filter(None.__ne__, Description))\n",
        "for item in Description:\n",
        "  Description_List.append(item.get_text())\n",
        "df= pd.DataFrame({'Id':Id_List,'Description': Description_List,'Solved_By':Solved_By_List})\n",
        "df.to_csv('monet.csv', index= False)\n",
        "df.head(5)\n"
      ],
      "execution_count": 5,
      "outputs": [
        {
          "output_type": "execute_result",
          "data": {
            "text/html": [
              "<div>\n",
              "<style scoped>\n",
              "    .dataframe tbody tr th:only-of-type {\n",
              "        vertical-align: middle;\n",
              "    }\n",
              "\n",
              "    .dataframe tbody tr th {\n",
              "        vertical-align: top;\n",
              "    }\n",
              "\n",
              "    .dataframe thead th {\n",
              "        text-align: right;\n",
              "    }\n",
              "</style>\n",
              "<table border=\"1\" class=\"dataframe\">\n",
              "  <thead>\n",
              "    <tr style=\"text-align: right;\">\n",
              "      <th></th>\n",
              "      <th>Id</th>\n",
              "      <th>Description</th>\n",
              "      <th>Solved_By</th>\n",
              "    </tr>\n",
              "  </thead>\n",
              "  <tbody>\n",
              "    <tr>\n",
              "      <th>0</th>\n",
              "      <td>1</td>\n",
              "      <td>Multiples of 3 and 5</td>\n",
              "      <td>965880</td>\n",
              "    </tr>\n",
              "    <tr>\n",
              "      <th>1</th>\n",
              "      <td>2</td>\n",
              "      <td>Even Fibonacci numbers</td>\n",
              "      <td>769337</td>\n",
              "    </tr>\n",
              "    <tr>\n",
              "      <th>2</th>\n",
              "      <td>3</td>\n",
              "      <td>Largest prime factor</td>\n",
              "      <td>552086</td>\n",
              "    </tr>\n",
              "    <tr>\n",
              "      <th>3</th>\n",
              "      <td>4</td>\n",
              "      <td>Largest palindrome product</td>\n",
              "      <td>487939</td>\n",
              "    </tr>\n",
              "    <tr>\n",
              "      <th>4</th>\n",
              "      <td>5</td>\n",
              "      <td>Smallest multiple</td>\n",
              "      <td>491450</td>\n",
              "    </tr>\n",
              "  </tbody>\n",
              "</table>\n",
              "</div>"
            ],
            "text/plain": [
              "   Id                 Description  Solved_By\n",
              "0   1        Multiples of 3 and 5     965880\n",
              "1   2      Even Fibonacci numbers     769337\n",
              "2   3        Largest prime factor     552086\n",
              "3   4  Largest palindrome product     487939\n",
              "4   5           Smallest multiple     491450"
            ]
          },
          "metadata": {
            "tags": []
          },
          "execution_count": 5
        }
      ]
    }
  ]
}